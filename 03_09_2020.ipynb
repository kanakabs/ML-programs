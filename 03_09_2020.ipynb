{
  "nbformat": 4,
  "nbformat_minor": 0,
  "metadata": {
    "colab": {
      "name": "03-09-2020.ipynb",
      "provenance": [],
      "collapsed_sections": [],
      "authorship_tag": "ABX9TyMuPPhKYVxcb15ZiurlQg3K",
      "include_colab_link": true
    },
    "kernelspec": {
      "name": "python3",
      "display_name": "Python 3"
    }
  },
  "cells": [
    {
      "cell_type": "markdown",
      "metadata": {
        "id": "view-in-github",
        "colab_type": "text"
      },
      "source": [
        "<a href=\"https://colab.research.google.com/github/kanakabs/ML-programs/blob/master/03_09_2020.ipynb\" target=\"_parent\"><img src=\"https://colab.research.google.com/assets/colab-badge.svg\" alt=\"Open In Colab\"/></a>"
      ]
    },
    {
      "cell_type": "markdown",
      "metadata": {
        "id": "waWqK2ERfuFC",
        "colab_type": "text"
      },
      "source": [
        ""
      ]
    },
    {
      "cell_type": "markdown",
      "metadata": {
        "id": "bjbK50DrcPIQ",
        "colab_type": "text"
      },
      "source": [
        "Write a Python program to count the occurrences of each word in a given sentence."
      ]
    },
    {
      "cell_type": "code",
      "metadata": {
        "id": "TiiITCpacUG3",
        "colab_type": "code",
        "colab": {
          "base_uri": "https://localhost:8080/",
          "height": 34
        },
        "outputId": "fe24a95c-5c54-42a2-9545-b05801a8c5b9"
      },
      "source": [
        "def word_count(str):\n",
        "    counts = dict()\n",
        "    words = str.split()\n",
        "\n",
        "    for word in words:\n",
        "        if word in counts:\n",
        "            counts[word] += 1\n",
        "        else:\n",
        "            counts[word] = 1\n",
        "\n",
        "    return counts\n",
        "\n",
        "print( word_count('first person rabbit point of view'))"
      ],
      "execution_count": 2,
      "outputs": [
        {
          "output_type": "stream",
          "text": [
            "{'first': 1, 'person': 1, 'rabbit': 1, 'point': 1, 'of': 1, 'view': 1}\n"
          ],
          "name": "stdout"
        }
      ]
    },
    {
      "cell_type": "markdown",
      "metadata": {
        "id": "z7dMV7BLci3o",
        "colab_type": "text"
      },
      "source": [
        "Write a Python program to remove duplicates from a list"
      ]
    },
    {
      "cell_type": "code",
      "metadata": {
        "id": "RdF2JhDQcnct",
        "colab_type": "code",
        "colab": {
          "base_uri": "https://localhost:8080/",
          "height": 50
        },
        "outputId": "0e0f7547-a669-495b-bf22-8e57dd61b8d7"
      },
      "source": [
        "a = [10,30,30,20,10,10,60,40,80,50,40]\n",
        "dup_items = set()\n",
        "uniq_items = []\n",
        "for x in a:\n",
        "  if x not in dup_items:\n",
        "\t  uniq_items.append(x)\n",
        "\t  dup_items.add(x)\n",
        "print(dup_items)\n",
        "print(uniq_items)"
      ],
      "execution_count": 3,
      "outputs": [
        {
          "output_type": "stream",
          "text": [
            "{40, 10, 80, 50, 20, 60, 30}\n",
            "[10, 30, 20, 60, 40, 80, 50]\n"
          ],
          "name": "stdout"
        }
      ]
    },
    {
      "cell_type": "markdown",
      "metadata": {
        "id": "Wb91Pr4nc0u3",
        "colab_type": "text"
      },
      "source": [
        "Write a Python program to count the number of elements in a list within a specified range."
      ]
    },
    {
      "cell_type": "code",
      "metadata": {
        "id": "r_mNYYFcc4xL",
        "colab_type": "code",
        "colab": {
          "base_uri": "https://localhost:8080/",
          "height": 34
        },
        "outputId": "4217959c-fdf4-4325-d417-3ef8b2ac315a"
      },
      "source": [
        "def count_range_in_list(li, min, max):\n",
        "\tctr = 0\n",
        "\tfor x in li:\n",
        "\t\tif min <= x <= max:\n",
        "\t\t\tctr += 1\n",
        "\treturn ctr\n",
        "\n",
        "list1 = [10,20,30,40,50,40,70,80,99]\n",
        "print(count_range_in_list(list1, 21, 100))"
      ],
      "execution_count": 4,
      "outputs": [
        {
          "output_type": "stream",
          "text": [
            "7\n"
          ],
          "name": "stdout"
        }
      ]
    },
    {
      "cell_type": "markdown",
      "metadata": {
        "id": "dQ1kkanzdBeu",
        "colab_type": "text"
      },
      "source": [
        "Write a Python script to merge two Python dictionaries"
      ]
    },
    {
      "cell_type": "code",
      "metadata": {
        "id": "LgBSOXeJdHrP",
        "colab_type": "code",
        "colab": {
          "base_uri": "https://localhost:8080/",
          "height": 34
        },
        "outputId": "2f4872d6-0971-4e01-fc62-d1079105459e"
      },
      "source": [
        "d1 = {'a': 100, 'b': 200}\n",
        "d2 = {'c': 300, 'd': 400}\n",
        "d = d1.copy()\n",
        "d.update(d2)\n",
        "print(d)"
      ],
      "execution_count": 5,
      "outputs": [
        {
          "output_type": "stream",
          "text": [
            "{'a': 100, 'b': 200, 'c': 300, 'd': 400}\n"
          ],
          "name": "stdout"
        }
      ]
    },
    {
      "cell_type": "markdown",
      "metadata": {
        "id": "PxBzM_bZdRcT",
        "colab_type": "text"
      },
      "source": [
        "Write a Python program to find the highest 3 values in a dictionary"
      ]
    },
    {
      "cell_type": "code",
      "metadata": {
        "id": "5d6s2eOWdbtn",
        "colab_type": "code",
        "colab": {
          "base_uri": "https://localhost:8080/",
          "height": 67
        },
        "outputId": "69d9a9b8-d997-41e2-c7fb-699aa5482e64"
      },
      "source": [
        "from heapq import nlargest\n",
        "my_dict = {'a':500, 'b':1000, 'c': 560,'d':400, 'e':2974, 'f': 3450}  \n",
        "ThreeHighest = nlargest(3, my_dict, key=my_dict.get)\n",
        "for val in ThreeHighest: \n",
        "    print(val, \":\", my_dict.get(val))"
      ],
      "execution_count": 9,
      "outputs": [
        {
          "output_type": "stream",
          "text": [
            "f : 3450\n",
            "e : 2974\n",
            "b : 1000\n"
          ],
          "name": "stdout"
        }
      ]
    },
    {
      "cell_type": "markdown",
      "metadata": {
        "id": "mAZjehVogPWA",
        "colab_type": "text"
      },
      "source": [
        "Write a python program to convert the tuple into a string"
      ]
    },
    {
      "cell_type": "code",
      "metadata": {
        "id": "--32VEXSgS5q",
        "colab_type": "code",
        "colab": {
          "base_uri": "https://localhost:8080/",
          "height": 34
        },
        "outputId": "41536688-afe5-4a1c-eaad-1c307134a07f"
      },
      "source": [
        "def convertTuple(tup): \n",
        "    str =  ''.join(tup) \n",
        "    return str\n",
        " \n",
        "tuple = ('a', 'l', 'v', 'a', 's') \n",
        "str = convertTuple(tuple) \n",
        "print(str) "
      ],
      "execution_count": 10,
      "outputs": [
        {
          "output_type": "stream",
          "text": [
            "alvas\n"
          ],
          "name": "stdout"
        }
      ]
    },
    {
      "cell_type": "markdown",
      "metadata": {
        "id": "qXo6_hn8ghLw",
        "colab_type": "text"
      },
      "source": [
        "write a python program to reverse a tuple"
      ]
    },
    {
      "cell_type": "code",
      "metadata": {
        "id": "3TrrTQW1gtcp",
        "colab_type": "code",
        "colab": {
          "base_uri": "https://localhost:8080/",
          "height": 34
        },
        "outputId": "1038b06f-4727-4e26-ea22-a033aba16077"
      },
      "source": [
        "def Reverse(tuples): \n",
        "    new_tup = tuples[::-1] \n",
        "    return new_tup \n",
        "      \n",
        " \n",
        "tuples = ('k','a','n','a','k','a','s') \n",
        "print(Reverse(tuples)) "
      ],
      "execution_count": 11,
      "outputs": [
        {
          "output_type": "stream",
          "text": [
            "('s', 'a', 'k', 'a', 'n', 'a', 'k')\n"
          ],
          "name": "stdout"
        }
      ]
    },
    {
      "cell_type": "markdown",
      "metadata": {
        "id": "Aqj6MNxjhVxi",
        "colab_type": "text"
      },
      "source": [
        "write a python program to remove existing indentation from all of the lines in a given text"
      ]
    },
    {
      "cell_type": "code",
      "metadata": {
        "id": "aPgWcLvshYL2",
        "colab_type": "code",
        "colab": {
          "base_uri": "https://localhost:8080/",
          "height": 168
        },
        "outputId": "aec4820f-60bc-463a-810a-c8323ca7e0f0"
      },
      "source": [
        "import textwrap  \n",
        "sample_text = ''' \n",
        "    Python is a widely used high-level, general-purpose, interpreted, \n",
        "    dynamic programming language. Its design philosophy emphasizes \n",
        "    code readability, and its syntax allows programmers to express \n",
        "    concepts in fewer lines of code than possible in languages such \n",
        "    as C++ or Java. \n",
        "    '''  \n",
        "text_without_Indentation = textwrap.dedent(sample_text)  \n",
        "print()  \n",
        "print(text_without_Indentation )  \n",
        "print() "
      ],
      "execution_count": 12,
      "outputs": [
        {
          "output_type": "stream",
          "text": [
            "\n",
            "\n",
            "Python is a widely used high-level, general-purpose, interpreted, \n",
            "dynamic programming language. Its design philosophy emphasizes \n",
            "code readability, and its syntax allows programmers to express \n",
            "concepts in fewer lines of code than possible in languages such \n",
            "as C++ or Java. \n",
            "\n",
            "\n"
          ],
          "name": "stdout"
        }
      ]
    }
  ]
}