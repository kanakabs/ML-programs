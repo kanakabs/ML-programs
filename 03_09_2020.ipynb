{
  "nbformat": 4,
  "nbformat_minor": 0,
  "metadata": {
    "colab": {
      "name": "03-09-2020.ipynb",
      "provenance": [],
      "collapsed_sections": [],
      "authorship_tag": "ABX9TyPCKC4q5f6xOLwMJbFjOB6w",
      "include_colab_link": true
    },
    "kernelspec": {
      "name": "python3",
      "display_name": "Python 3"
    }
  },
  "cells": [
    {
      "cell_type": "markdown",
      "metadata": {
        "id": "view-in-github",
        "colab_type": "text"
      },
      "source": [
        "<a href=\"https://colab.research.google.com/github/kanakabs/ML-programs/blob/master/03_09_2020.ipynb\" target=\"_parent\"><img src=\"https://colab.research.google.com/assets/colab-badge.svg\" alt=\"Open In Colab\"/></a>"
      ]
    },
    {
      "cell_type": "markdown",
      "metadata": {
        "id": "bjbK50DrcPIQ",
        "colab_type": "text"
      },
      "source": [
        "Write a Python program to count the occurrences of each word in a given sentence."
      ]
    },
    {
      "cell_type": "code",
      "metadata": {
        "id": "TiiITCpacUG3",
        "colab_type": "code",
        "colab": {
          "base_uri": "https://localhost:8080/",
          "height": 34
        },
        "outputId": "fe24a95c-5c54-42a2-9545-b05801a8c5b9"
      },
      "source": [
        "def word_count(str):\n",
        "    counts = dict()\n",
        "    words = str.split()\n",
        "\n",
        "    for word in words:\n",
        "        if word in counts:\n",
        "            counts[word] += 1\n",
        "        else:\n",
        "            counts[word] = 1\n",
        "\n",
        "    return counts\n",
        "\n",
        "print( word_count('first person rabbit point of view'))"
      ],
      "execution_count": 2,
      "outputs": [
        {
          "output_type": "stream",
          "text": [
            "{'first': 1, 'person': 1, 'rabbit': 1, 'point': 1, 'of': 1, 'view': 1}\n"
          ],
          "name": "stdout"
        }
      ]
    },
    {
      "cell_type": "markdown",
      "metadata": {
        "id": "z7dMV7BLci3o",
        "colab_type": "text"
      },
      "source": [
        "Write a Python program to remove duplicates from a list"
      ]
    },
    {
      "cell_type": "code",
      "metadata": {
        "id": "RdF2JhDQcnct",
        "colab_type": "code",
        "colab": {
          "base_uri": "https://localhost:8080/",
          "height": 50
        },
        "outputId": "0e0f7547-a669-495b-bf22-8e57dd61b8d7"
      },
      "source": [
        "a = [10,30,30,20,10,10,60,40,80,50,40]\n",
        "dup_items = set()\n",
        "uniq_items = []\n",
        "for x in a:\n",
        "  if x not in dup_items:\n",
        "\t  uniq_items.append(x)\n",
        "\t  dup_items.add(x)\n",
        "print(dup_items)\n",
        "print(uniq_items)"
      ],
      "execution_count": 3,
      "outputs": [
        {
          "output_type": "stream",
          "text": [
            "{40, 10, 80, 50, 20, 60, 30}\n",
            "[10, 30, 20, 60, 40, 80, 50]\n"
          ],
          "name": "stdout"
        }
      ]
    },
    {
      "cell_type": "markdown",
      "metadata": {
        "id": "Wb91Pr4nc0u3",
        "colab_type": "text"
      },
      "source": [
        "Write a Python program to count the number of elements in a list within a specified range."
      ]
    },
    {
      "cell_type": "code",
      "metadata": {
        "id": "r_mNYYFcc4xL",
        "colab_type": "code",
        "colab": {
          "base_uri": "https://localhost:8080/",
          "height": 34
        },
        "outputId": "4217959c-fdf4-4325-d417-3ef8b2ac315a"
      },
      "source": [
        "def count_range_in_list(li, min, max):\n",
        "\tctr = 0\n",
        "\tfor x in li:\n",
        "\t\tif min <= x <= max:\n",
        "\t\t\tctr += 1\n",
        "\treturn ctr\n",
        "\n",
        "list1 = [10,20,30,40,50,40,70,80,99]\n",
        "print(count_range_in_list(list1, 21, 100))"
      ],
      "execution_count": 4,
      "outputs": [
        {
          "output_type": "stream",
          "text": [
            "7\n"
          ],
          "name": "stdout"
        }
      ]
    },
    {
      "cell_type": "markdown",
      "metadata": {
        "id": "dQ1kkanzdBeu",
        "colab_type": "text"
      },
      "source": [
        "Write a Python script to merge two Python dictionaries"
      ]
    },
    {
      "cell_type": "code",
      "metadata": {
        "id": "LgBSOXeJdHrP",
        "colab_type": "code",
        "colab": {
          "base_uri": "https://localhost:8080/",
          "height": 34
        },
        "outputId": "2f4872d6-0971-4e01-fc62-d1079105459e"
      },
      "source": [
        "d1 = {'a': 100, 'b': 200}\n",
        "d2 = {'c': 300, 'd': 400}\n",
        "d = d1.copy()\n",
        "d.update(d2)\n",
        "print(d)"
      ],
      "execution_count": 5,
      "outputs": [
        {
          "output_type": "stream",
          "text": [
            "{'a': 100, 'b': 200, 'c': 300, 'd': 400}\n"
          ],
          "name": "stdout"
        }
      ]
    },
    {
      "cell_type": "markdown",
      "metadata": {
        "id": "PxBzM_bZdRcT",
        "colab_type": "text"
      },
      "source": [
        "Write a Python program to find the highest 3 values in a dictionary"
      ]
    },
    {
      "cell_type": "code",
      "metadata": {
        "id": "5d6s2eOWdbtn",
        "colab_type": "code",
        "colab": {
          "base_uri": "https://localhost:8080/",
          "height": 67
        },
        "outputId": "91b26cb0-97dc-4866-959d-f69afa2a1fab"
      },
      "source": [
        "from heapq import nlargest\n",
        "my_dict = {'a':500, 'b':1000, 'c': 560,'d':400, 'e':2974, 'f': 3450}  \n",
        "ThreeHighest = nlargest(3, my_dict, key=my_dict.get)\n",
        "for val in ThreeHighest: \n",
        "    print(val, \":\", my_dict.get(val))"
      ],
      "execution_count": 8,
      "outputs": [
        {
          "output_type": "stream",
          "text": [
            "f : 3450\n",
            "e : 2974\n",
            "b : 1000\n"
          ],
          "name": "stdout"
        }
      ]
    }
  ]
}